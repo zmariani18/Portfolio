{
 "cells": [
  {
   "cell_type": "markdown",
   "id": "e0b0529e",
   "metadata": {},
   "source": [
    "This is Zach Mariani's notebook submission for the Curri Case!\n",
    "\n",
    "# Curri Case Executive Summary \n",
    "\n",
    "1. **What would a healthy network look like to you?**\n",
    "\n",
    "    a. **Qualitatively: Please describe in 1-2 sentences.** A healthy network would be one where supply and demand is balanced. You'd want a sufficient number of drivers who are willing to accept at wait times and prices that customers are willing to pay, but not too many drivers who join who cannot find work, get discouraged, and permanently, leave the platform. \n",
    "    \n",
    "    b. **Quantitatively: How would you measure network capacity? What key metrics would you look for?** I break down my thinking here into two buckets (1) by stakeholder and (2) by constraint. When thinking by stakeholders, there are roughly three parties to consider (1.1) the end customers themselves, (1.2) the suppliers of these products, the Lowes, Lumber Yards, Paint Stores, etc., and (1.3) the drivers of the Curris. As for by constraint, I order my thinking into (2.1) time and (2.2) cost. \n",
    "    \n",
    "    Discussion: \n",
    "    \n",
    "    1.1 The end customers themselves need to have access to network capacity when they need it, at prices and delivery times that work for them. They need to be able to log into the app, see that there are drivers or that there will be drivers that are going to perform the service when they need it. To measure this you would want to track things like: \n",
    "    - Number of times the app is opened, an order is started, but not finished.\n",
    "    - Number of times the customer cancels the order, experiment with different constraints (free cancellation, 30 mins to cancel, pay to cancel, etc).\n",
    "    - Within the dataset, we can use things like total cost, total time to deliver given how long the drive is, percentages of order which are completed, etc.  \n",
    "    \n",
    "    1.2 The stores/suppliers need to have the products in stock. I am unsure if Curri organizes the purchase of these supplies or just the end delivery. Assuming that they can influence/play some role in organizing the purchase as opposed to exclusively the delivery, the app needs to be able to make sure that either the store has the product in stock at the time it is needed, that a suitable alternative product can be sourced, or that another store within a reasonable time/distance/cost can provide the same product. This is very difficult to gain insight into from the given data. Alternatively, I might look for: \n",
    "    - Service levels of different stores/warehouses either directly from them or from end market user experiences. We can ask contractors etc which are the most reliable places to purchase from and make sure that those are the places which are connected to our network. \n",
    "    - Alternative products, some algorithm / way to suggest similar products which might be available. \n",
    "    - Geolocation data in this dataset showing where the orders were fulfilled. \n",
    "    \n",
    "    1.3 The Curri drivers. This is what we have the best insight into from the data. We need to make sure that the Curri drivers are engaged while they're on the platform (i.e. there is work that they are willing to do at prices they are willing to do it), that there are sufficient drivers in reserve for times when the regular base of drivers is fully saturated, and that we know how to access them. It is important that we know the number of push notifications we might need to send, price, hikes, waiting times etc to be able to effectively predict this and present this information to the end user. Ways to measure this might include: \n",
    "    - Number of drivers on the platform who drive regularly (n drives per period). \n",
    "    - Number of drivers on the platform who get messages and then open the app to consider it. \n",
    "    - Number of push notifications / price hikes it might take to add more capacity. \n",
    "    \n",
    "    2.1 Time is presumably a very important constraint to Curri. If the end user is not able to source his/her products using a Curri quick enough, they will have to use alternative methods. To measure the network capacity as it relates to time constraints, I might look at: \n",
    "    - The amount of time it takes to get an order accepted \n",
    "    - The amount of time it takes to deliver the order once it is accepted (adjusting for driving distance)\n",
    "    - The right type of vehicle for the order placement, i.e. not having to wait before your stuff cannot fit on a smaller car (difficult to tell from this dataset, but likely information Curri already has). \n",
    "    \n",
    "    2.2 Cost, as for cost, it is important that we can offer network capacity at prices which people are willing to pay. There is a price, presumably, for which eventually someone in the network would be willing to pay, but we need to make sure that we understand what these levels are in relation to how much people are willing to pay, in relation to how much Curri is willing to sacrifice its own margins. Metrics to pay attention to here would include: \n",
    "    - Average cost per mile. \n",
    "    - Average cost per minute of delivery.\n",
    "    - Average cost per vehicle type. \n",
    "    - Number of price increases. \n",
    "    - Amount of price increases (difficult to tell from the data, but likely something Curri already has). \n",
    "    - The right type of vehicle for the order placement, i.e. not overpaying because only some vehicles are available (difficult to tell from this dataset, but likely information Curri already has). \n",
    "   \n",
    "   \n",
    "Concluding thoughts: it makes more sense given the types of data that we have access to right now and the time constraints to focus mainly on analyzing using the first breakdown. Given that we have no data on 1.2, we will focus our efforts on 1.1 and 1.3."
   ]
  },
  {
   "cell_type": "markdown",
   "id": "3690ce40",
   "metadata": {},
   "source": [
    "2. **Using data in the attached spreadsheet, assess the health of the following markets: Market A, B, and C.** \n",
    "\n",
    "    a. **Calculate 2 or more metrics you indicated in 1b for each market. If you do not have the data for your metrics or come across any limitations with the provided data, please indicate in your response and how you would use it to measure market health. We are more interested in your approach than your answer.** *Tip: we recommend aggregating the data by time frame (i.e. weekly, monthly, etc.)*\n",
    "    \n",
    "    Please see below for the metrics. I think the best way to approach this would be to incorporate the most amount of information possible in as few metrics as possible. I was initially considering doing some regression or some ML type approach to give us a measure of cost/completion rate as a function of distance and time (on the end customer side). This approaches seems ill-fit, given the scarcity of data, and lack of interpretability of these results. This would be a great way to do a one-stop shop to answer the question how good is the market? But a bad way to find things on which to improve. Instead, I have presented some quick tools to look at a handful of metrics which incorporate, cost, time, distance, and success and allow the user to explore them. \n",
    "    \n",
    "    b. **Based on the metrics you pulled, which market is healthiest? Why?**\n",
    "    \n",
    "    Market B is likely the healthiest. It has the highest number of rides, the highest number of unique drivers, a low average cost per ride versus a high average cost per minute and a low average cost per mile which tells us that it is likely that many people are booking in advance. This implies that the market is possible more mature than other markets, the end users are familiar with Curri, and that they use it for orders that they are placing ahead. \n",
    "    \n",
    "    c. **Pick one of the other two ''less healthy markets\". What actions, if any, should we take to improve it? Detail potential solutions and how you would implement them with Curri.**\n",
    "   \n",
    "   Market A has the most potential for improvement versus Market C. Market A has shorter driving distances than market C (implying it is probably more dense/urban), has a higher failure rate, has more orders, and has fewer unique drivers. It seems like the problem may just be that there are not enough drivers engaged total. Market A has significantly fewer drivers than market C (see below). \n",
    "   \n",
    "   If I were in charge, I would run some experiments (either in the field) or in the old data to see how expensive it would be to get more drivers to join the platform. I would also want to learn more about the differences between these markets (i.e. why do we believe that these discrepancies exist?). But, initially, from this data I would say that there are likely just not enough drivers working with Curri in Market A compared to the potential number of drivers that could be versus market B. If they joined, the completion rate would be higher, the costs to the end user would likely be lower, etc. \n",
    "   \n",
    "   You could get more drivers by using a referral program with current drivers in market A, marketing directly to Uber/Lyft drivers in Market A, reaching out to small rental truck companies and seeing if they were interested in partnership, etc. "
   ]
  },
  {
   "cell_type": "markdown",
   "id": "de2ef9ee",
   "metadata": {},
   "source": [
    "3. How would Curri use network capacity to make decisions in the following ways? Give 1 example for each below. \n",
    "\n",
    "    a. **Acquiring and on-boarding supply?** There are presumably finite marketing resources at Curri. In this way, it is important to figure out where it would be best to acquire and on-board new supply. Market capacity should show us, from my initial foray into this data set, that there are likely better marginal returns in investing in new on-boarding of drivers in Market A than in Market B, or in Market A than in Market C. We would want to understand more about what was driving these differences, what the data might be missing, and then learn from other on-boarding before making a recommendation. We would also need to know something about the labor costs of these areas (something which our data set might be able to tell us, but that I haven't looked too closely into). \n",
    "    \n",
    "    b. **Improving our driver matching algorithm?** It seems that a very high percentage of drivers do not get engaged at all, even in markets where the wait time is higher than other markets. I would start here, why are we not sending messages to these drivers in the first place? From there, I would try to figure out ways to better time when the orders are placed vs. matched. It seems that in Market B (the best market), lots of orders have very long \"driving times\" even though the distances are roughly the same. This makes me think that the users in Market A and Market C are less used to Curri, use it more just-in-case instead of planning ahead with it. It is likely easier to optimize the driver matching algorithm if you could get the market more used to the product and have the demand be better able to be forecast. "
   ]
  },
  {
   "cell_type": "markdown",
   "id": "484e6387",
   "metadata": {},
   "source": [
    "# Exploratory Data Analysis \n",
    "\n",
    "This section just cleans up the data and organizes it into a few quick charts. "
   ]
  },
  {
   "cell_type": "code",
   "execution_count": 131,
   "id": "8e8c1dff",
   "metadata": {},
   "outputs": [],
   "source": [
    "import pandas as pd \n",
    "import numpy as np \n",
    "\n",
    "import os\n",
    "\n",
    "import ipywidgets as widgets\n",
    "from ipywidgets import interact, Dropdown\n",
    "\n",
    "import plotly.express as px\n",
    "import plotly.graph_objects as go"
   ]
  },
  {
   "cell_type": "code",
   "execution_count": 132,
   "id": "d28d9967",
   "metadata": {},
   "outputs": [],
   "source": [
    "delivery_df = pd.read_excel('/Users/zachmariani/Downloads/S&P Case Databook.xlsx', sheet_name = 'Delivery Data')\n",
    "driver_df = pd.read_excel('/Users/zachmariani/Downloads/S&P Case Databook.xlsx', sheet_name = 'Driver Activity Levels')"
   ]
  },
  {
   "cell_type": "code",
   "execution_count": 133,
   "id": "05ebc550",
   "metadata": {},
   "outputs": [],
   "source": [
    "# boring data cleaning stuff \n",
    "delivery_df['delivered_at'] = pd.to_datetime(delivery_df['delivered_at'], utc=True)\n",
    "delivery_df['created_at'] = pd.to_datetime(delivery_df['created_at'], utc=True)\n",
    "#NB: UTC not sure if this is the best way to handle this type of error.... :< \n",
    "\n",
    "#add in new columns for delivery times which will be useful later on! \n",
    "delivery_df['minutes_total'] = delivery_df['delivered_at'] - delivery_df['created_at']\n",
    "delivery_df['minutes_total'] = delivery_df['minutes_total'].dt.total_seconds().div(60)\n",
    "delivery_df['minutes_driving'] = delivery_df['minutes_total'] - delivery_df['minutes_to_secure_driver']\n",
    "\n",
    "# if it's not completed or the time is negative, just let it go to nan, look into this more later!\n",
    "delivery_df.loc[delivery_df['minutes_driving'] < 0, 'minutes_driving'] = np.nan\n",
    "\n",
    "delivery_df['mph_estimate'] = delivery_df['miles'] / (delivery_df['minutes_driving']/60)"
   ]
  },
  {
   "cell_type": "code",
   "execution_count": 134,
   "id": "93cd5ac6",
   "metadata": {},
   "outputs": [],
   "source": [
    "#for the end consumer \n",
    "delivery_df['price_per_miles'] = delivery_df['price'] / delivery_df['miles']\n",
    "delivery_df['price_per_driving_time'] = delivery_df['price'] / (delivery_df['minutes_driving']/60)\n",
    "delivery_df['price_per_total_time'] = delivery_df['price'] / (delivery_df['minutes_total']/60)\n",
    "\n",
    "#for the drivers\n",
    "delivery_df['cost_per_miles'] = delivery_df['cost'] / delivery_df['miles']\n",
    "delivery_df['cost_per_driving_time'] = delivery_df['cost'] / (delivery_df['minutes_driving']/60)\n",
    "delivery_df['cost_per_total_time'] = delivery_df['cost'] / (delivery_df['minutes_total']/60)"
   ]
  },
  {
   "cell_type": "code",
   "execution_count": 135,
   "id": "064d6568",
   "metadata": {},
   "outputs": [
    {
     "data": {
      "application/vnd.jupyter.widget-view+json": {
       "model_id": "d38d0f8d286a4d328ca2282a6d0c6d03",
       "version_major": 2,
       "version_minor": 0
      },
      "text/plain": [
       "interactive(children=(Dropdown(description='Select variable:', options=('region', 'vehicle_type', 'is_complete…"
      ]
     },
     "metadata": {},
     "output_type": "display_data"
    },
    {
     "data": {
      "text/plain": [
       "<function __main__.plot(var)>"
      ]
     },
     "execution_count": 135,
     "metadata": {},
     "output_type": "execute_result"
    }
   ],
   "source": [
    "# Take a look at percentages:\n",
    "    \n",
    "dropdown = Dropdown(options=['region', 'vehicle_type', 'is_completed_delivery'], \n",
    "                    description='Select variable:')\n",
    "    \n",
    "def plot(var): \n",
    "    fig = px.bar(delivery_df[var].value_counts(), \n",
    "                 x=delivery_df[var].value_counts().index, \n",
    "                 y=delivery_df[var].value_counts().values)\n",
    "    fig.show()\n",
    "    \n",
    "\n",
    "interact(plot, var=dropdown)\n"
   ]
  },
  {
   "cell_type": "markdown",
   "id": "e1062f14",
   "metadata": {},
   "source": [
    "Taking a look at initial variable distributions "
   ]
  },
  {
   "cell_type": "code",
   "execution_count": 136,
   "id": "1bd8affa",
   "metadata": {},
   "outputs": [
    {
     "data": {
      "application/vnd.jupyter.widget-view+json": {
       "model_id": "09690b3e2dc94d50b7559924359b1095",
       "version_major": 2,
       "version_minor": 0
      },
      "text/plain": [
       "interactive(children=(Dropdown(description='Select variable:', options=('created_at', 'miles', 'price', 'cost'…"
      ]
     },
     "metadata": {},
     "output_type": "display_data"
    }
   ],
   "source": [
    "dropdown = Dropdown(options=['created_at', 'miles', 'price', 'cost', \n",
    "                             'minutes_to_secure_driver',  'minutes_total', 'minutes_driving', \n",
    "                             'unique_drivers_messaged', \n",
    "                            'total_fulfillment_messages_sent', 'total_payout_increases', \n",
    "                            'drivers_in_area']\n",
    "                    , description='Select variable:')\n",
    "\n",
    "\n",
    "def plot(var):\n",
    "    fig = go.Figure(data=[go.Histogram(x=delivery_df[var])])\n",
    "    fig.update_layout(title='Histogram for: ' + var)\n",
    "    fig.show()\n",
    "\n",
    "\n",
    "interact(plot, var=dropdown);"
   ]
  },
  {
   "cell_type": "markdown",
   "id": "37794f0c",
   "metadata": {},
   "source": [
    "# Data Manipulation Tools\n",
    "\n",
    "The tools below show that Market B is the healthiest market. It has the most orders, the most unique drivers, stable costs per hour, a high average cost per total time, but a low average cost per mile. All of this together implies that the end user is likely familiar with Curri and using it to book deliveries in advance. More information on each market should be gathered. This could include things like, number of distributors, number of unique customers, demographics, Curri usage adjusted per capita, etc. "
   ]
  },
  {
   "cell_type": "code",
   "execution_count": 138,
   "id": "daa1cdee",
   "metadata": {},
   "outputs": [
    {
     "data": {
      "application/vnd.jupyter.widget-view+json": {
       "model_id": "73782b4be6d74d07ad5bcb5335d5ecda",
       "version_major": 2,
       "version_minor": 0
      },
      "text/plain": [
       "interactive(children=(Dropdown(description='Select Time: ', options=('H', 'D', 'W', 'M'), value='H'), Dropdown…"
      ]
     },
     "metadata": {},
     "output_type": "display_data"
    }
   ],
   "source": [
    "xs = ['H', 'D', 'W', 'M']\n",
    "\n",
    "vehicle_types = ['All', 'Car', 'Cargo Van', 'Pickup Truck']\n",
    "\n",
    "ys = ['Average Cost per Mile', \n",
    "      'Average Cost per Ride', \n",
    "      'Average Cost per Total Time', \n",
    "      'Average Cost per Driving Time', \n",
    "      'Average Waiting Time', \n",
    "      'Minutes to Secure Driver / Total Time', \n",
    "      'Number of Rides', \n",
    "      'Percentage of Rides Completed',\n",
    "      'Unique Drivers', \n",
    "      'Unique Drivers per Order'] \n",
    "\n",
    "\n",
    "x = Dropdown(options=xs, description = 'Select Time: ')\n",
    "y = Dropdown(options = ys, description ='Var to plot: ')\n",
    "vehicle_type = Dropdown(options = vehicle_types, description = 'Vehicle Type:')\n",
    "\n",
    "def plot(x, vehicle_type, y): \n",
    "    if vehicle_type == 'All': \n",
    "        temp = delivery_df\n",
    "    else: \n",
    "        temp = delivery_df[delivery_df['vehicle_type'] == vehicle_type]\n",
    "\n",
    "    if y =='Average Cost per Mile':\n",
    "        temp = temp.set_index('created_at').groupby([pd.Grouper(freq=x), 'region']).sum().reset_index()\n",
    "        temp['data'] = temp['cost'] / temp['miles']\n",
    "\n",
    "    if y =='Average Cost per Ride':\n",
    "        temp = temp.set_index('created_at').groupby([pd.Grouper(freq=x), 'region']).mean().reset_index()\n",
    "        temp['data'] = temp['cost'] \n",
    "        \n",
    "    if y =='Average Cost per Total Time':\n",
    "        temp = temp.set_index('created_at').groupby([pd.Grouper(freq=x), 'region']).sum().reset_index()\n",
    "        temp['data'] = temp['cost'] / (temp['minutes_total']/60)\n",
    "\n",
    "    if y =='Average Cost per Driving Time':\n",
    "        temp = temp.set_index('created_at').groupby([pd.Grouper(freq=x), 'region']).sum().reset_index()\n",
    "        temp['data'] = temp['cost'] / (temp['minutes_driving']/60)\n",
    "\n",
    "    if y =='Average Waiting Time':\n",
    "        temp = temp.set_index('created_at').groupby([pd.Grouper(freq=x), 'region']).mean().reset_index()\n",
    "        temp['data'] = temp['minutes_to_secure_driver'] \n",
    "\n",
    "    if y =='Minutes to Secure Driver / Total Time':\n",
    "        temp = temp.set_index('created_at').groupby([pd.Grouper(freq=x), 'region']).sum().reset_index()\n",
    "        temp['data'] = temp['minutes_to_secure_driver'] / temp['minutes_total'] \n",
    "\n",
    "    if y =='Number of Rides':\n",
    "        temp = temp.set_index('created_at').groupby([pd.Grouper(freq=x), 'region']).count().reset_index()\n",
    "        temp['data'] = temp['delivery_id']\n",
    "\n",
    "    if y =='Percentage of Rides Completed':\n",
    "        true = temp[temp['is_completed_delivery'] == True]\n",
    "        true = true.set_index('created_at').groupby([pd.Grouper(freq=x), 'region']).count().reset_index()\n",
    "\n",
    "        temp = temp.set_index('created_at').groupby([pd.Grouper(freq=x), 'region']).count().reset_index()\n",
    "        temp['data'] = true['delivery_id'] / temp['delivery_id']\n",
    "        \n",
    "    if y =='Unique Drivers':\n",
    "        temp = temp.set_index('created_at').groupby([pd.Grouper(freq=x), 'region']).nunique().reset_index()\n",
    "        temp['data'] = temp['driver_id']\n",
    "        \n",
    "    if y =='Unique Drivers per Order':\n",
    "        order_count = temp.set_index('created_at').groupby([pd.Grouper(freq=x), 'region']).count().reset_index()\n",
    "        temp = temp.set_index('created_at').groupby([pd.Grouper(freq=x), 'region']).nunique().reset_index()\n",
    "        temp['data'] = temp['driver_id'] / order_count['delivery_id']\n",
    "        \n",
    "\n",
    "\n",
    "    fig = px.line(temp, x=\"created_at\", y=\"data\", color='region', title=y)\n",
    "    fig.update_layout(xaxis_title=\"Date\", yaxis_title=y)\n",
    "    fig.show()\n",
    "    \n",
    "\n",
    "    \n",
    "interact(plot, x=x, vehicle_type = vehicle_type, y=y);"
   ]
  },
  {
   "cell_type": "markdown",
   "id": "7973fad4",
   "metadata": {},
   "source": [
    "# Bad Market Exploration"
   ]
  },
  {
   "cell_type": "markdown",
   "id": "8b65cdd2",
   "metadata": {},
   "source": [
    "We can see the failure rates and the total order rates and total unique drivers by market below. It is clear that Market B is the strongest performer. It has the lowest failure rate, the highest orders, the most unique drivers, the lowest waiting times, and the fewest payout increases. "
   ]
  },
  {
   "cell_type": "code",
   "execution_count": 139,
   "id": "0511c97f",
   "metadata": {},
   "outputs": [
    {
     "name": "stdout",
     "output_type": "stream",
     "text": [
      "Failure Rates\n"
     ]
    },
    {
     "data": {
      "text/html": [
       "<div>\n",
       "<style scoped>\n",
       "    .dataframe tbody tr th:only-of-type {\n",
       "        vertical-align: middle;\n",
       "    }\n",
       "\n",
       "    .dataframe tbody tr th {\n",
       "        vertical-align: top;\n",
       "    }\n",
       "\n",
       "    .dataframe thead tr th {\n",
       "        text-align: left;\n",
       "    }\n",
       "\n",
       "    .dataframe thead tr:last-of-type th {\n",
       "        text-align: right;\n",
       "    }\n",
       "</style>\n",
       "<table border=\"1\" class=\"dataframe\">\n",
       "  <thead>\n",
       "    <tr>\n",
       "      <th></th>\n",
       "      <th colspan=\"3\" halign=\"left\">created_at</th>\n",
       "    </tr>\n",
       "    <tr>\n",
       "      <th>region</th>\n",
       "      <th>Market A</th>\n",
       "      <th>Market B</th>\n",
       "      <th>Market C</th>\n",
       "    </tr>\n",
       "    <tr>\n",
       "      <th>vehicle_type</th>\n",
       "      <th></th>\n",
       "      <th></th>\n",
       "      <th></th>\n",
       "    </tr>\n",
       "  </thead>\n",
       "  <tbody>\n",
       "    <tr>\n",
       "      <th>Car</th>\n",
       "      <td>0.025362</td>\n",
       "      <td>0.024677</td>\n",
       "      <td>0.018349</td>\n",
       "    </tr>\n",
       "    <tr>\n",
       "      <th>Cargo Van</th>\n",
       "      <td>0.033557</td>\n",
       "      <td>0.014925</td>\n",
       "      <td>0.021978</td>\n",
       "    </tr>\n",
       "    <tr>\n",
       "      <th>Pickup Truck</th>\n",
       "      <td>0.042254</td>\n",
       "      <td>0.029963</td>\n",
       "      <td>NaN</td>\n",
       "    </tr>\n",
       "  </tbody>\n",
       "</table>\n",
       "</div>"
      ],
      "text/plain": [
       "             created_at                    \n",
       "region         Market A  Market B  Market C\n",
       "vehicle_type                               \n",
       "Car            0.025362  0.024677  0.018349\n",
       "Cargo Van      0.033557  0.014925  0.021978\n",
       "Pickup Truck   0.042254  0.029963       NaN"
      ]
     },
     "execution_count": 139,
     "metadata": {},
     "output_type": "execute_result"
    }
   ],
   "source": [
    "fails_df = delivery_df[delivery_df['is_completed_delivery'] == False]\\\n",
    "    .groupby(['region', 'vehicle_type']).count()[['created_at']]\\\n",
    "/\\\n",
    "delivery_df\\\n",
    "    .groupby(['region', 'vehicle_type']).count()[['created_at']]\n",
    "\n",
    "\n",
    "print('Failure Rates')\n",
    "fails_df.unstack(level=0)"
   ]
  },
  {
   "cell_type": "code",
   "execution_count": 140,
   "id": "46a81325",
   "metadata": {},
   "outputs": [
    {
     "name": "stdout",
     "output_type": "stream",
     "text": [
      "Order Counts\n"
     ]
    },
    {
     "data": {
      "text/html": [
       "<div>\n",
       "<style scoped>\n",
       "    .dataframe tbody tr th:only-of-type {\n",
       "        vertical-align: middle;\n",
       "    }\n",
       "\n",
       "    .dataframe tbody tr th {\n",
       "        vertical-align: top;\n",
       "    }\n",
       "\n",
       "    .dataframe thead tr th {\n",
       "        text-align: left;\n",
       "    }\n",
       "\n",
       "    .dataframe thead tr:last-of-type th {\n",
       "        text-align: right;\n",
       "    }\n",
       "</style>\n",
       "<table border=\"1\" class=\"dataframe\">\n",
       "  <thead>\n",
       "    <tr>\n",
       "      <th></th>\n",
       "      <th colspan=\"3\" halign=\"left\">created_at</th>\n",
       "    </tr>\n",
       "    <tr>\n",
       "      <th>region</th>\n",
       "      <th>Market A</th>\n",
       "      <th>Market B</th>\n",
       "      <th>Market C</th>\n",
       "    </tr>\n",
       "    <tr>\n",
       "      <th>vehicle_type</th>\n",
       "      <th></th>\n",
       "      <th></th>\n",
       "      <th></th>\n",
       "    </tr>\n",
       "  </thead>\n",
       "  <tbody>\n",
       "    <tr>\n",
       "      <th>Car</th>\n",
       "      <td>276</td>\n",
       "      <td>851</td>\n",
       "      <td>218</td>\n",
       "    </tr>\n",
       "    <tr>\n",
       "      <th>Cargo Van</th>\n",
       "      <td>149</td>\n",
       "      <td>134</td>\n",
       "      <td>91</td>\n",
       "    </tr>\n",
       "    <tr>\n",
       "      <th>Pickup Truck</th>\n",
       "      <td>71</td>\n",
       "      <td>267</td>\n",
       "      <td>22</td>\n",
       "    </tr>\n",
       "  </tbody>\n",
       "</table>\n",
       "</div>"
      ],
      "text/plain": [
       "             created_at                  \n",
       "region         Market A Market B Market C\n",
       "vehicle_type                             \n",
       "Car                 276      851      218\n",
       "Cargo Van           149      134       91\n",
       "Pickup Truck         71      267       22"
      ]
     },
     "execution_count": 140,
     "metadata": {},
     "output_type": "execute_result"
    }
   ],
   "source": [
    "print('Order Counts')\n",
    "delivery_df\\\n",
    "    .groupby(['region', 'vehicle_type']).count()[['created_at']].unstack(level=0)"
   ]
  },
  {
   "cell_type": "code",
   "execution_count": 141,
   "id": "25bf988b",
   "metadata": {},
   "outputs": [
    {
     "name": "stdout",
     "output_type": "stream",
     "text": [
      "Unique Drivers\n"
     ]
    },
    {
     "data": {
      "text/html": [
       "<div>\n",
       "<style scoped>\n",
       "    .dataframe tbody tr th:only-of-type {\n",
       "        vertical-align: middle;\n",
       "    }\n",
       "\n",
       "    .dataframe tbody tr th {\n",
       "        vertical-align: top;\n",
       "    }\n",
       "\n",
       "    .dataframe thead tr th {\n",
       "        text-align: left;\n",
       "    }\n",
       "\n",
       "    .dataframe thead tr:last-of-type th {\n",
       "        text-align: right;\n",
       "    }\n",
       "</style>\n",
       "<table border=\"1\" class=\"dataframe\">\n",
       "  <thead>\n",
       "    <tr>\n",
       "      <th></th>\n",
       "      <th colspan=\"3\" halign=\"left\">driver_id</th>\n",
       "    </tr>\n",
       "    <tr>\n",
       "      <th>region</th>\n",
       "      <th>Market A</th>\n",
       "      <th>Market B</th>\n",
       "      <th>Market C</th>\n",
       "    </tr>\n",
       "    <tr>\n",
       "      <th>vehicle_type</th>\n",
       "      <th></th>\n",
       "      <th></th>\n",
       "      <th></th>\n",
       "    </tr>\n",
       "  </thead>\n",
       "  <tbody>\n",
       "    <tr>\n",
       "      <th>Car</th>\n",
       "      <td>37</td>\n",
       "      <td>118</td>\n",
       "      <td>54</td>\n",
       "    </tr>\n",
       "    <tr>\n",
       "      <th>Cargo Van</th>\n",
       "      <td>26</td>\n",
       "      <td>56</td>\n",
       "      <td>24</td>\n",
       "    </tr>\n",
       "    <tr>\n",
       "      <th>Pickup Truck</th>\n",
       "      <td>17</td>\n",
       "      <td>50</td>\n",
       "      <td>8</td>\n",
       "    </tr>\n",
       "  </tbody>\n",
       "</table>\n",
       "</div>"
      ],
      "text/plain": [
       "             driver_id                  \n",
       "region        Market A Market B Market C\n",
       "vehicle_type                            \n",
       "Car                 37      118       54\n",
       "Cargo Van           26       56       24\n",
       "Pickup Truck        17       50        8"
      ]
     },
     "execution_count": 141,
     "metadata": {},
     "output_type": "execute_result"
    }
   ],
   "source": [
    "print('Unique Drivers')\n",
    "delivery_df\\\n",
    "    .groupby(['region', 'vehicle_type']).nunique()[['driver_id']].unstack(level=0)"
   ]
  },
  {
   "cell_type": "code",
   "execution_count": 142,
   "id": "e1495ec7",
   "metadata": {},
   "outputs": [
    {
     "name": "stdout",
     "output_type": "stream",
     "text": [
      "Unique Drivers / Total Drivers\n"
     ]
    },
    {
     "data": {
      "text/html": [
       "<div>\n",
       "<style scoped>\n",
       "    .dataframe tbody tr th:only-of-type {\n",
       "        vertical-align: middle;\n",
       "    }\n",
       "\n",
       "    .dataframe tbody tr th {\n",
       "        vertical-align: top;\n",
       "    }\n",
       "\n",
       "    .dataframe thead tr th {\n",
       "        text-align: left;\n",
       "    }\n",
       "\n",
       "    .dataframe thead tr:last-of-type th {\n",
       "        text-align: right;\n",
       "    }\n",
       "</style>\n",
       "<table border=\"1\" class=\"dataframe\">\n",
       "  <thead>\n",
       "    <tr>\n",
       "      <th></th>\n",
       "      <th colspan=\"3\" halign=\"left\">driver_id</th>\n",
       "    </tr>\n",
       "    <tr>\n",
       "      <th>region</th>\n",
       "      <th>Market A</th>\n",
       "      <th>Market B</th>\n",
       "      <th>Market C</th>\n",
       "    </tr>\n",
       "    <tr>\n",
       "      <th>vehicle_type</th>\n",
       "      <th></th>\n",
       "      <th></th>\n",
       "      <th></th>\n",
       "    </tr>\n",
       "  </thead>\n",
       "  <tbody>\n",
       "    <tr>\n",
       "      <th>Car</th>\n",
       "      <td>0.134058</td>\n",
       "      <td>0.138660</td>\n",
       "      <td>0.247706</td>\n",
       "    </tr>\n",
       "    <tr>\n",
       "      <th>Cargo Van</th>\n",
       "      <td>0.174497</td>\n",
       "      <td>0.417910</td>\n",
       "      <td>0.263736</td>\n",
       "    </tr>\n",
       "    <tr>\n",
       "      <th>Pickup Truck</th>\n",
       "      <td>0.239437</td>\n",
       "      <td>0.187266</td>\n",
       "      <td>0.363636</td>\n",
       "    </tr>\n",
       "  </tbody>\n",
       "</table>\n",
       "</div>"
      ],
      "text/plain": [
       "             driver_id                    \n",
       "region        Market A  Market B  Market C\n",
       "vehicle_type                              \n",
       "Car           0.134058  0.138660  0.247706\n",
       "Cargo Van     0.174497  0.417910  0.263736\n",
       "Pickup Truck  0.239437  0.187266  0.363636"
      ]
     },
     "execution_count": 142,
     "metadata": {},
     "output_type": "execute_result"
    }
   ],
   "source": [
    "print('Unique Drivers / Total Drivers')\n",
    "delivery_df\\\n",
    "    .groupby(['region', 'vehicle_type']).nunique()[['driver_id']].unstack(level=0) / \\\n",
    "delivery_df\\\n",
    "    .groupby(['region', 'vehicle_type']).count()[['driver_id']].unstack(level=0)"
   ]
  },
  {
   "cell_type": "code",
   "execution_count": 143,
   "id": "1b98c505",
   "metadata": {},
   "outputs": [
    {
     "name": "stdout",
     "output_type": "stream",
     "text": [
      "Avg Minutes to Secure Driver\n"
     ]
    },
    {
     "data": {
      "text/html": [
       "<div>\n",
       "<style scoped>\n",
       "    .dataframe tbody tr th:only-of-type {\n",
       "        vertical-align: middle;\n",
       "    }\n",
       "\n",
       "    .dataframe tbody tr th {\n",
       "        vertical-align: top;\n",
       "    }\n",
       "\n",
       "    .dataframe thead tr th {\n",
       "        text-align: left;\n",
       "    }\n",
       "\n",
       "    .dataframe thead tr:last-of-type th {\n",
       "        text-align: right;\n",
       "    }\n",
       "</style>\n",
       "<table border=\"1\" class=\"dataframe\">\n",
       "  <thead>\n",
       "    <tr>\n",
       "      <th></th>\n",
       "      <th colspan=\"3\" halign=\"left\">minutes_to_secure_driver</th>\n",
       "    </tr>\n",
       "    <tr>\n",
       "      <th>region</th>\n",
       "      <th>Market A</th>\n",
       "      <th>Market B</th>\n",
       "      <th>Market C</th>\n",
       "    </tr>\n",
       "    <tr>\n",
       "      <th>vehicle_type</th>\n",
       "      <th></th>\n",
       "      <th></th>\n",
       "      <th></th>\n",
       "    </tr>\n",
       "  </thead>\n",
       "  <tbody>\n",
       "    <tr>\n",
       "      <th>Car</th>\n",
       "      <td>53.291300</td>\n",
       "      <td>38.973510</td>\n",
       "      <td>66.866393</td>\n",
       "    </tr>\n",
       "    <tr>\n",
       "      <th>Cargo Van</th>\n",
       "      <td>109.113126</td>\n",
       "      <td>72.766275</td>\n",
       "      <td>138.965167</td>\n",
       "    </tr>\n",
       "    <tr>\n",
       "      <th>Pickup Truck</th>\n",
       "      <td>53.254516</td>\n",
       "      <td>29.630637</td>\n",
       "      <td>95.576508</td>\n",
       "    </tr>\n",
       "  </tbody>\n",
       "</table>\n",
       "</div>"
      ],
      "text/plain": [
       "             minutes_to_secure_driver                       \n",
       "region                       Market A   Market B    Market C\n",
       "vehicle_type                                                \n",
       "Car                         53.291300  38.973510   66.866393\n",
       "Cargo Van                  109.113126  72.766275  138.965167\n",
       "Pickup Truck                53.254516  29.630637   95.576508"
      ]
     },
     "execution_count": 143,
     "metadata": {},
     "output_type": "execute_result"
    }
   ],
   "source": [
    "print('Avg Minutes to Secure Driver')\n",
    "delivery_df\\\n",
    "    .groupby(['region', 'vehicle_type']).mean()[['minutes_to_secure_driver']].unstack(level=0)"
   ]
  },
  {
   "cell_type": "code",
   "execution_count": 144,
   "id": "7471ff82",
   "metadata": {},
   "outputs": [
    {
     "name": "stdout",
     "output_type": "stream",
     "text": [
      "Avg Miles\n"
     ]
    },
    {
     "data": {
      "text/html": [
       "<div>\n",
       "<style scoped>\n",
       "    .dataframe tbody tr th:only-of-type {\n",
       "        vertical-align: middle;\n",
       "    }\n",
       "\n",
       "    .dataframe tbody tr th {\n",
       "        vertical-align: top;\n",
       "    }\n",
       "\n",
       "    .dataframe thead tr th {\n",
       "        text-align: left;\n",
       "    }\n",
       "\n",
       "    .dataframe thead tr:last-of-type th {\n",
       "        text-align: right;\n",
       "    }\n",
       "</style>\n",
       "<table border=\"1\" class=\"dataframe\">\n",
       "  <thead>\n",
       "    <tr>\n",
       "      <th></th>\n",
       "      <th colspan=\"3\" halign=\"left\">miles</th>\n",
       "    </tr>\n",
       "    <tr>\n",
       "      <th>region</th>\n",
       "      <th>Market A</th>\n",
       "      <th>Market B</th>\n",
       "      <th>Market C</th>\n",
       "    </tr>\n",
       "    <tr>\n",
       "      <th>vehicle_type</th>\n",
       "      <th></th>\n",
       "      <th></th>\n",
       "      <th></th>\n",
       "    </tr>\n",
       "  </thead>\n",
       "  <tbody>\n",
       "    <tr>\n",
       "      <th>Car</th>\n",
       "      <td>26.497951</td>\n",
       "      <td>24.544242</td>\n",
       "      <td>34.233791</td>\n",
       "    </tr>\n",
       "    <tr>\n",
       "      <th>Cargo Van</th>\n",
       "      <td>18.156598</td>\n",
       "      <td>30.665329</td>\n",
       "      <td>31.173304</td>\n",
       "    </tr>\n",
       "    <tr>\n",
       "      <th>Pickup Truck</th>\n",
       "      <td>31.889582</td>\n",
       "      <td>26.872620</td>\n",
       "      <td>43.970140</td>\n",
       "    </tr>\n",
       "  </tbody>\n",
       "</table>\n",
       "</div>"
      ],
      "text/plain": [
       "                  miles                      \n",
       "region         Market A   Market B   Market C\n",
       "vehicle_type                                 \n",
       "Car           26.497951  24.544242  34.233791\n",
       "Cargo Van     18.156598  30.665329  31.173304\n",
       "Pickup Truck  31.889582  26.872620  43.970140"
      ]
     },
     "execution_count": 144,
     "metadata": {},
     "output_type": "execute_result"
    }
   ],
   "source": [
    "print('Avg Miles')\n",
    "delivery_df\\\n",
    "    .groupby(['region', 'vehicle_type']).mean()[['miles']].unstack(level=0)"
   ]
  },
  {
   "cell_type": "code",
   "execution_count": 145,
   "id": "93fcfe42",
   "metadata": {},
   "outputs": [
    {
     "name": "stdout",
     "output_type": "stream",
     "text": [
      "Average Total Payout Increases\n"
     ]
    },
    {
     "data": {
      "text/html": [
       "<div>\n",
       "<style scoped>\n",
       "    .dataframe tbody tr th:only-of-type {\n",
       "        vertical-align: middle;\n",
       "    }\n",
       "\n",
       "    .dataframe tbody tr th {\n",
       "        vertical-align: top;\n",
       "    }\n",
       "\n",
       "    .dataframe thead tr th {\n",
       "        text-align: left;\n",
       "    }\n",
       "\n",
       "    .dataframe thead tr:last-of-type th {\n",
       "        text-align: right;\n",
       "    }\n",
       "</style>\n",
       "<table border=\"1\" class=\"dataframe\">\n",
       "  <thead>\n",
       "    <tr>\n",
       "      <th></th>\n",
       "      <th colspan=\"3\" halign=\"left\">total_payout_increases</th>\n",
       "    </tr>\n",
       "    <tr>\n",
       "      <th>region</th>\n",
       "      <th>Market A</th>\n",
       "      <th>Market B</th>\n",
       "      <th>Market C</th>\n",
       "    </tr>\n",
       "    <tr>\n",
       "      <th>vehicle_type</th>\n",
       "      <th></th>\n",
       "      <th></th>\n",
       "      <th></th>\n",
       "    </tr>\n",
       "  </thead>\n",
       "  <tbody>\n",
       "    <tr>\n",
       "      <th>Car</th>\n",
       "      <td>3.137681</td>\n",
       "      <td>0.753231</td>\n",
       "      <td>3.096330</td>\n",
       "    </tr>\n",
       "    <tr>\n",
       "      <th>Cargo Van</th>\n",
       "      <td>3.268456</td>\n",
       "      <td>1.537313</td>\n",
       "      <td>3.000000</td>\n",
       "    </tr>\n",
       "    <tr>\n",
       "      <th>Pickup Truck</th>\n",
       "      <td>2.802817</td>\n",
       "      <td>0.790262</td>\n",
       "      <td>2.818182</td>\n",
       "    </tr>\n",
       "  </tbody>\n",
       "</table>\n",
       "</div>"
      ],
      "text/plain": [
       "             total_payout_increases                    \n",
       "region                     Market A  Market B  Market C\n",
       "vehicle_type                                           \n",
       "Car                        3.137681  0.753231  3.096330\n",
       "Cargo Van                  3.268456  1.537313  3.000000\n",
       "Pickup Truck               2.802817  0.790262  2.818182"
      ]
     },
     "execution_count": 145,
     "metadata": {},
     "output_type": "execute_result"
    }
   ],
   "source": [
    "print('Average Total Payout Increases')\n",
    "delivery_df\\\n",
    "    .groupby(['region', 'vehicle_type']).mean()[['total_payout_increases']].unstack(level=0)"
   ]
  },
  {
   "cell_type": "markdown",
   "id": "077e6119",
   "metadata": {},
   "source": [
    "# Driver DF Exploration\n",
    "\n",
    "Total driver DF exploration shows that even though Market C has more drivers than Market B, it is not able to generate as much traffic. This adds conviction to the case that we ought to focus our attention on Market A. We can also see that Market A just has substantially fewer drivers than markets B and C. We need to consider the marginal cost to add in a new driver, the margin benefit of that driver, etc. These are all types of questions we could explore with more time and access to data. "
   ]
  },
  {
   "cell_type": "code",
   "execution_count": 146,
   "id": "b110267a",
   "metadata": {},
   "outputs": [
    {
     "data": {
      "text/html": [
       "<div>\n",
       "<style scoped>\n",
       "    .dataframe tbody tr th:only-of-type {\n",
       "        vertical-align: middle;\n",
       "    }\n",
       "\n",
       "    .dataframe tbody tr th {\n",
       "        vertical-align: top;\n",
       "    }\n",
       "\n",
       "    .dataframe thead th {\n",
       "        text-align: right;\n",
       "    }\n",
       "</style>\n",
       "<table border=\"1\" class=\"dataframe\">\n",
       "  <thead>\n",
       "    <tr style=\"text-align: right;\">\n",
       "      <th></th>\n",
       "      <th>engaged</th>\n",
       "      <th>interested</th>\n",
       "      <th>available</th>\n",
       "      <th>dormant</th>\n",
       "      <th>ignored</th>\n",
       "      <th>all</th>\n",
       "    </tr>\n",
       "    <tr>\n",
       "      <th>region</th>\n",
       "      <th></th>\n",
       "      <th></th>\n",
       "      <th></th>\n",
       "      <th></th>\n",
       "      <th></th>\n",
       "      <th></th>\n",
       "    </tr>\n",
       "  </thead>\n",
       "  <tbody>\n",
       "    <tr>\n",
       "      <th>Market A</th>\n",
       "      <td>44.0</td>\n",
       "      <td>10.0</td>\n",
       "      <td>11.0</td>\n",
       "      <td>19.0</td>\n",
       "      <td>57.0</td>\n",
       "      <td>141.0</td>\n",
       "    </tr>\n",
       "    <tr>\n",
       "      <th>Market B</th>\n",
       "      <td>108.0</td>\n",
       "      <td>22.0</td>\n",
       "      <td>47.0</td>\n",
       "      <td>34.0</td>\n",
       "      <td>92.0</td>\n",
       "      <td>303.0</td>\n",
       "    </tr>\n",
       "    <tr>\n",
       "      <th>Market C</th>\n",
       "      <td>68.0</td>\n",
       "      <td>20.0</td>\n",
       "      <td>56.0</td>\n",
       "      <td>67.0</td>\n",
       "      <td>133.0</td>\n",
       "      <td>344.0</td>\n",
       "    </tr>\n",
       "  </tbody>\n",
       "</table>\n",
       "</div>"
      ],
      "text/plain": [
       "          engaged  interested  available  dormant  ignored    all\n",
       "region                                                           \n",
       "Market A     44.0        10.0       11.0     19.0     57.0  141.0\n",
       "Market B    108.0        22.0       47.0     34.0     92.0  303.0\n",
       "Market C     68.0        20.0       56.0     67.0    133.0  344.0"
      ]
     },
     "execution_count": 146,
     "metadata": {},
     "output_type": "execute_result"
    }
   ],
   "source": [
    "temp = driver_df.groupby('region').sum()\n",
    "temp['all'] = temp.sum(axis = 1)\n",
    "temp"
   ]
  },
  {
   "cell_type": "code",
   "execution_count": null,
   "id": "61516881",
   "metadata": {},
   "outputs": [],
   "source": []
  }
 ],
 "metadata": {
  "hide_input": false,
  "kernelspec": {
   "display_name": "Python 3 (ipykernel)",
   "language": "python",
   "name": "python3"
  },
  "language_info": {
   "codemirror_mode": {
    "name": "ipython",
    "version": 3
   },
   "file_extension": ".py",
   "mimetype": "text/x-python",
   "name": "python",
   "nbconvert_exporter": "python",
   "pygments_lexer": "ipython3",
   "version": "3.9.7"
  },
  "toc": {
   "base_numbering": 1,
   "nav_menu": {},
   "number_sections": true,
   "sideBar": true,
   "skip_h1_title": false,
   "title_cell": "Table of Contents",
   "title_sidebar": "Contents",
   "toc_cell": false,
   "toc_position": {},
   "toc_section_display": true,
   "toc_window_display": false
  }
 },
 "nbformat": 4,
 "nbformat_minor": 5
}
